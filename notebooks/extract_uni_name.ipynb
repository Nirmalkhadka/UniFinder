{
 "cells": [
  {
   "cell_type": "code",
   "execution_count": 4,
   "id": "64bd1241",
   "metadata": {},
   "outputs": [
    {
     "name": "stdout",
     "output_type": "stream",
     "text": [
      "['Bachelor of Information Technology - Data Analytics', 'Bachelor of Information Technology - Interaction Design', 'Bachelor of Information Technology - Enterprise Systems Development', 'Bachelor of Information Technology', 'Bachelor of Information Technology - Business Information Systems Management', 'Bachelor of Information Technology - Networking and Cybersecurity', 'Bachelor of Information Technology (Computer Science)', 'Bachelor of Information Technology -BP162OPN9', 'Bachelor of Information Technology (Professional) - Available from 01/01/2024', 'Bachelor of Information Technology - 110803E', 'Master of Information Technology - Information Technology', 'Master of Information Technology/Master of Commerce (108473C)', 'Master of Information Technology - e-Commerce Systems', 'Master of Information Technology - Digital Innovation', 'Master of Information Technology - 079795G', 'Master of Information Technology', 'Master of Information Technology -(079795G)', 'Master of Information Technology (Available from 01/12/2023)', 'Master of Engineering (Telecommunication)', 'Diploma in Library and Information Technology', 'Ontario College Diploma in Computer Systems Technician – Information Technology Infrastructure and Services (Co-op)', 'Ontario College Diploma in Computer Systems Technician – Information Technology Infrastructure and Services', 'Bachelor of Technology in Information Technology', 'Ontario College Diploma in Computer Systems Technician - Information Technology Infrastructure and Services (Optional Co-op)', 'Diploma in Computer Information Technology', 'Ontario College Advanced Diploma in IT Innovation and Design (Optional Co-op)', 'Bachelor of Commerce (Honours) - Information Technology', 'Diploma in Interactive Design - User Experience', 'Diploma in IT Data Analytics', 'Honours Bachelor of Information Technology - Cybersecurity', 'Diploma in Information Technology', 'Professional Certificate in Information Technology Auditing and Assurance', 'Diploma in Business Information Technology Management', 'Professional Certificate in Information Technology for Internationally Educated Professionals', 'Bachelor of Information Technology (Honours) in Information Technology Security (Bridge)', 'Bachelors of Business Administration - Information Systems', 'Bachelor of Information Technology (Honours) in Networking and Information Technology Security', 'Bachelor of Information Technology - Information Resource Management', 'Honours Bachelor of Information Technology Design and Management', 'Bachelor of Arts in Information Technology (Honours)', 'Master of Information Technology in Network Technology', 'Master of Applied Science in Information Technology - Digital Media', 'Master of Information Technology in Digital Media', 'Master of Applied Science in Information Technology - Networking Technology', 'BSc (Hons) Information Technology and Business Information Systems (Top-up)', 'BSc (Hons) in Information Technology', 'BSc (Hons) Information Technology', 'BSc (Hons) Information Technology Management (Sandwich)', 'BSc (Hons) Information Technology Management', 'BSc (Hons) in Information Technology (Sandwich Year)', 'BSc (Hons) Information Technology Management with Foundation Year', 'BSc (Hons) Computing and Information Technology with a Foundation Year', 'BSc (Hons) Information Technology Management for Business (ITMB)', 'BSc (Hons) Management and Information Technology', 'BSc (Hons) Business Information Systems with Foundation Year', 'MSc Management (Digitalisation and Big Data)', 'MSc Computing and IT Management', 'MSc Information Technology', 'MSc in Information Technology with Management', 'MSc Information Technology with Cybersecurity', 'MSc Management of Information Technology', 'MSc in Computing and Information Technology', 'MSc Information Technology Management', 'MSc Information Technology Management with Placement Year', 'MSc/PgD/PgC - Computing and Information Technology', 'MSc Computing and IT Management with Placement', 'Bachelor of Science in Information Systems- Computer Information Technology', 'Bachelor of Science in Information Technology - Second Degree (Online)', 'Bachelor of Arts in Business Administration - Information Technology', 'Bachelor of Science in Information Technology (Online)', 'Bachelor of Science in Information Technology', 'Bachelor of Science in Computer Information Technology', 'Bachelor of Science in Computer and Information Technology', 'Bachelor of Science in Informatics - Computer Information Technology', 'Bachelor of Information Technology and Management - IT Entrepreneurship and Management', 'Bachelor of Science in Information Technology - Media Engineering', 'Bachelor of Science and Master of Science in Information Technology', 'Bachelor of Science in Information Technology Management', 'Bachelor of Science in Information Systems and Technology', 'Bachelor of Science in Business Information Technology', 'Bachelor of Applied Arts and Sciences - Information Technology', 'Bachelor of Science in Information Technology and Master of Business in Business Administration - Queens Campus', 'Bachelor of Science in Information Technology and Management', 'Master of Science in Information Technology - Computing', 'Master of Science in Information Technology', 'Master of Science in Information Technology - Management', 'Master of Science in Information Systems and Technology', 'Master of Business Administration in Information Technology Management', 'Master of Science in Information Technology and Management', 'Master of Software Development', 'Master of Information Technology and Management - Software Development', 'Master of Information Technology and Management - Information Technology Infrastructure', 'Master of Information Technology and Management', 'Master of Information Technology and Management - Smart Technology and Innovation', 'Master of Information Technology and Management - Systems Analysis', 'Master of Science in Information Technology - IT Management', 'Master of Business Administration - Information Technology', 'Master of Science in Computer Science and Information Technology - Information Technology', 'Master of Science in Big Data Analytics and Information Technology', 'Master of Science in Information Technology Management', 'Bachelor of Information and Communication Technologies - Networking and Infrastructure Pathway', 'Bachelor of Information and Communication Technologies (Software Development Pathway)', 'Bachelor of Information Technology (Invercargill)', 'Bachelor of Applied Information Technology', 'Master of Information Governance - Information Governance - Taught 120 points', 'Master of Information Governance - Information Governance (Online) - Taught 180 points', 'Master of Technology Innovation in Business', 'Postgraduate Diploma in Information Technology']\n"
     ]
    }
   ],
   "source": [
    "import pandas as pd\n",
    "\n",
    "# Load the dataset\n",
    "df = pd.read_csv('../data/processed/uni.csv')\n",
    "\n",
    "# Extract unique university names\n",
    "unique_universities = df['courseTitle'].drop_duplicates().tolist()\n",
    "\n",
    "# Print the unique university names\n",
    "print(unique_universities)"
   ]
  }
 ],
 "metadata": {
  "kernelspec": {
   "display_name": "Python 3",
   "language": "python",
   "name": "python3"
  },
  "language_info": {
   "codemirror_mode": {
    "name": "ipython",
    "version": 3
   },
   "file_extension": ".py",
   "mimetype": "text/x-python",
   "name": "python",
   "nbconvert_exporter": "python",
   "pygments_lexer": "ipython3",
   "version": "3.11.9"
  }
 },
 "nbformat": 4,
 "nbformat_minor": 5
}
