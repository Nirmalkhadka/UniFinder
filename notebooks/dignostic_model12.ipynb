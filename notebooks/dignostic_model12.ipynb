{
 "cells": [
  {
   "cell_type": "code",
   "execution_count": 12,
   "id": "228dcd48",
   "metadata": {},
   "outputs": [
    {
     "name": "stdout",
     "output_type": "stream",
     "text": [
      "\n",
      "Human-readable TOEFL scores:\n",
      "     toefl_ibt  human_readable_toefl_ibt\n",
      "0     0.265713                422.078561\n",
      "1     0.265713                422.078561\n",
      "2     0.265713                422.078561\n",
      "3     0.265713                422.078561\n",
      "4     0.265713                422.078561\n",
      "..         ...                       ...\n",
      "126   0.892378                540.455332\n",
      "127   0.892378                540.455332\n",
      "128   0.892378                540.455332\n",
      "129   0.265713                422.078561\n",
      "130   0.265713                422.078561\n",
      "\n",
      "[131 rows x 2 columns]\n"
     ]
    }
   ],
   "source": [
    "import pandas as pd\n",
    "import joblib\n",
    "\n",
    "# Load the processed dataset and the scaler\n",
    "df = pd.read_csv('../data/processed/ml_ready_data1_old.csv')\n",
    "scaler = joblib.load('../models/feature_scaler1.joblib')\n",
    "\n",
    "# Columns that were used in scaling (based on the error message)\n",
    "scaled_columns = ['ieltsMarks', 'minimumGPA', 'tuitionFeeUSD', 'toefl_ibt', 'universityRankingNum']\n",
    "\n",
    "# Check if the columns in the scaler match the columns we want to inverse transform\n",
    "scaler_columns = scaler.feature_names_in_\n",
    "\n",
    "# Check if the feature columns match\n",
    "if set(scaled_columns) != set(scaler_columns):\n",
    "    raise ValueError(f\"Mismatch between the columns used for scaling: {scaled_columns} and the columns in the scaler: {scaler_columns}\")\n",
    "\n",
    "# Isolate only the scaled columns\n",
    "scaled_data = df[scaled_columns]\n",
    "\n",
    "# Inverse transform the scaled features\n",
    "scaled_data_inverse = scaler.inverse_transform(scaled_data)\n",
    "\n",
    "# Convert the inverse-transformed data back to a DataFrame\n",
    "scaled_data_inverse_df = pd.DataFrame(scaled_data_inverse, columns=scaled_columns)\n",
    "\n",
    "# Now we add the human-readable 'toefl_ibt' column\n",
    "df['human_readable_toefl_ibt'] = scaled_data_inverse_df['toefl_ibt']\n",
    "\n",
    "# Display the results: original 'toefl_ibt' and the human-readable 'toefl_ibt'\n",
    "print(\"\\nHuman-readable TOEFL scores:\")\n",
    "print(df[['toefl_ibt', 'human_readable_toefl_ibt']])\n",
    "\n",
    "# Optionally, save the updated dataframe if you want to export the results\n",
    "df.to_csv('../data/processed/ml_ready_data1_human_readable.csv', index=False)\n"
   ]
  }
 ],
 "metadata": {
  "kernelspec": {
   "display_name": "Python 3",
   "language": "python",
   "name": "python3"
  },
  "language_info": {
   "codemirror_mode": {
    "name": "ipython",
    "version": 3
   },
   "file_extension": ".py",
   "mimetype": "text/x-python",
   "name": "python",
   "nbconvert_exporter": "python",
   "pygments_lexer": "ipython3",
   "version": "3.11.9"
  }
 },
 "nbformat": 4,
 "nbformat_minor": 5
}
