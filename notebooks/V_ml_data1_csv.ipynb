{
 "cells": [
  {
   "cell_type": "code",
   "execution_count": 13,
   "id": "c75167e4",
   "metadata": {},
   "outputs": [
    {
     "name": "stdout",
     "output_type": "stream",
     "text": [
      "       ieltsMarks   toefl_ibt  minimumGPA  tuitionFeeUSD  universityRankingNum\n",
      "count  131.000000  131.000000  131.000000     131.000000            131.000000\n",
      "mean     6.358779   78.862595    2.696947   27065.039695            371.885496\n",
      "std      0.292698   10.291717    0.282826   10275.869008            189.624757\n",
      "min      5.500000   60.000000    2.200000    8767.500000             39.000000\n",
      "25%      6.000000   79.000000    2.400000   18601.375000            251.000000\n",
      "50%      6.500000   79.000000    2.700000   26910.000000            351.000000\n",
      "75%      6.500000   88.000000    3.000000   34066.500000            401.000000\n",
      "max      7.000000   95.000000    3.000000   60360.000000           1001.000000\n"
     ]
    }
   ],
   "source": [
    "import pandas as pd\n",
    "import joblib\n",
    "df = pd.read_csv('../data/processed/ml_data_dp4.csv')\n",
    "scaler = joblib.load('../models/feature_scaler_dp4.joblib')\n",
    "raw_vals = scaler.inverse_transform(df[['ieltsMarks', 'toefl_ibt', 'minimumGPA', 'tuitionFeeUSD', 'universityRankingNum']])\n",
    "raw_df = pd.DataFrame(raw_vals, columns=['ieltsMarks', 'toefl_ibt', 'minimumGPA', 'tuitionFeeUSD', 'universityRankingNum'])\n",
    "print(raw_df.describe())"
   ]
  },
  {
   "cell_type": "code",
   "execution_count": 10,
   "id": "f9d587da",
   "metadata": {},
   "outputs": [
    {
     "name": "stdout",
     "output_type": "stream",
     "text": [
      "       ieltsMarks   toefl_ibt  minimumGPA  tuitionFeeUSD  \\\n",
      "count  131.000000  131.000000  131.000000     131.000000   \n",
      "mean     6.358779   78.862595    2.696947   27065.039695   \n",
      "std      0.292698   10.291717    0.282826   10275.869008   \n",
      "min      5.500000   60.000000    2.200000    8767.500000   \n",
      "25%      6.000000   79.000000    2.400000   18601.375000   \n",
      "50%      6.500000   79.000000    2.700000   26910.000000   \n",
      "75%      6.500000   88.000000    3.000000   34066.500000   \n",
      "max      7.000000   95.000000    3.000000   60360.000000   \n",
      "\n",
      "       ielts_toefl_interaction  gpa_tuition_interaction  ielts_squared  \\\n",
      "count               131.000000               131.000000     131.000000   \n",
      "mean                503.377863             73306.596794      40.519084   \n",
      "std                  80.854834             29411.835704       3.697143   \n",
      "min                 335.500000             21042.000000      30.250000   \n",
      "25%                 474.000000             46906.875000      36.000000   \n",
      "50%                 513.500000             74337.000000      42.250000   \n",
      "75%                 572.000000             92449.350000      42.250000   \n",
      "max                 665.000000            181080.000000      49.000000   \n",
      "\n",
      "       toefl_squared  universityRankingNum  \n",
      "count     131.000000            131.000000  \n",
      "mean     6324.419847            371.885496  \n",
      "std      1549.523093            189.624757  \n",
      "min      3600.000000             39.000000  \n",
      "25%      6241.000000            251.000000  \n",
      "50%      6241.000000            351.000000  \n",
      "75%      7744.000000            401.000000  \n",
      "max      9025.000000           1001.000000  \n"
     ]
    }
   ],
   "source": [
    "import pandas as pd\n",
    "import joblib\n",
    "df = pd.read_csv('../data/processed/ml_data6.csv')\n",
    "scaler = joblib.load('../models/feature_scaler.joblib')\n",
    "raw_vals = scaler.inverse_transform(df[['ieltsMarks', 'toefl_ibt', 'minimumGPA', 'tuitionFeeUSD', 'ielts_toefl_interaction', 'gpa_tuition_interaction', 'ielts_squared', 'toefl_squared', 'universityRankingNum']])\n",
    "raw_df = pd.DataFrame(raw_vals, columns=['ieltsMarks', 'toefl_ibt', 'minimumGPA', 'tuitionFeeUSD', 'ielts_toefl_interaction', 'gpa_tuition_interaction', 'ielts_squared', 'toefl_squared', 'universityRankingNum'])\n",
    "print(raw_df.describe())"
   ]
  },
  {
   "cell_type": "code",
   "execution_count": 11,
   "id": "c6245f63",
   "metadata": {},
   "outputs": [
    {
     "name": "stdout",
     "output_type": "stream",
     "text": [
      "         ieltsMarks     toefl_ibt    minimumGPA  tuitionFeeUSD  \\\n",
      "count  1.310000e+02  1.310000e+02  1.310000e+02   1.310000e+02   \n",
      "mean  -9.966582e-16 -2.169596e-16  1.545837e-15  -2.305196e-16   \n",
      "std    1.003839e+00  1.003839e+00  1.003839e+00   1.003839e+00   \n",
      "min   -2.945268e+00 -3.950033e+00 -1.763820e+00  -1.787467e+00   \n",
      "25%   -1.230468e+00 -4.464064e-01 -1.053957e+00  -8.268065e-01   \n",
      "50%    4.843330e-01  2.657129e-01  1.083760e-02  -1.514566e-02   \n",
      "75%    4.843330e-01  6.644997e-01  1.075632e+00   6.839653e-01   \n",
      "max    2.199134e+00  1.177226e+00  1.075632e+00   3.252549e+00   \n",
      "\n",
      "       universityRankingNum    uniqueID  \n",
      "count          1.310000e+02  131.000000  \n",
      "mean           4.067993e-17   65.000000  \n",
      "std            1.003839e+00   37.960506  \n",
      "min           -1.762235e+00    0.000000  \n",
      "25%           -6.399457e-01   32.500000  \n",
      "50%           -1.105640e-01   65.000000  \n",
      "75%            1.541269e-01   97.500000  \n",
      "max            3.330417e+00  130.000000  \n"
     ]
    }
   ],
   "source": [
    "import pandas as pd\n",
    "df = pd.read_csv('../data/processed/ml_ready_data1.csv')\n",
    "print(df.describe())"
   ]
  }
 ],
 "metadata": {
  "kernelspec": {
   "display_name": "Python 3",
   "language": "python",
   "name": "python3"
  },
  "language_info": {
   "codemirror_mode": {
    "name": "ipython",
    "version": 3
   },
   "file_extension": ".py",
   "mimetype": "text/x-python",
   "name": "python",
   "nbconvert_exporter": "python",
   "pygments_lexer": "ipython3",
   "version": "3.11.9"
  }
 },
 "nbformat": 4,
 "nbformat_minor": 5
}
